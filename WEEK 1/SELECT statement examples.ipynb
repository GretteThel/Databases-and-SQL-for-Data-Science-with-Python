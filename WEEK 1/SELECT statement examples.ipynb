{
 "cells": [
  {
   "cell_type": "markdown",
   "id": "ac89c970",
   "metadata": {},
   "source": [
    "# SELECT statement examples"
   ]
  },
  {
   "cell_type": "markdown",
   "id": "6e151e2d",
   "metadata": {},
   "source": [
    "**Estimated time: 5 min**"
   ]
  },
  {
   "cell_type": "markdown",
   "id": "8592ea47",
   "metadata": {},
   "source": [
    "## Objectives"
   ]
  },
  {
   "cell_type": "markdown",
   "id": "0ba690bd",
   "metadata": {},
   "source": [
    "At the end of this reading, you will learn how to:\n",
    "\n",
    "  * Use various SELECT queries to retrieve data from the database."
   ]
  },
  {
   "cell_type": "markdown",
   "id": "1f0bb664",
   "metadata": {},
   "source": [
    "## SELECT statement usage"
   ]
  },
  {
   "cell_type": "markdown",
   "id": "d0725ec4",
   "metadata": {},
   "source": [
    "SELECT is classified as a Database Query command used to retrieve information from a database table.\n",
    "\n",
    "There are various forms in which a SELECT statement is used.\n",
    "\n",
    "   1. The **general syntax** of a SELECT statement retrieves the data under the listed columns from Table_1. The code is:"
   ]
  },
  {
   "cell_type": "code",
   "execution_count": null,
   "id": "31e14dad",
   "metadata": {},
   "outputs": [],
   "source": [
    "SELECT COLUMN1, COLUMN2, ... FROM TABLE_1 ;"
   ]
  },
  {
   "cell_type": "markdown",
   "id": "4b69e1c8",
   "metadata": {},
   "source": [
    "2. To retrieve all columns from a table, use \" * \" instead of specifying individual column names. The code below retrieves the entire table."
   ]
  },
  {
   "cell_type": "code",
   "execution_count": null,
   "id": "55eef74a",
   "metadata": {},
   "outputs": [],
   "source": [
    "    SELECT * FROM TABLE_1 ;"
   ]
  },
  {
   "cell_type": "markdown",
   "id": "4494ac07",
   "metadata": {},
   "source": [
    "3. Use the **WHERE** clause to filter the required data based on a predicate. The code below filters the response to only the entries that match the predicate."
   ]
  },
  {
   "cell_type": "code",
   "execution_count": null,
   "id": "ccbff04b",
   "metadata": {},
   "outputs": [],
   "source": [
    "SELECT <COLUMNS> FROM TABLE_1 WHERE <predicate> ;"
   ]
  },
  {
   "cell_type": "markdown",
   "id": "3ff63441",
   "metadata": {},
   "source": [
    "## SELECT examples"
   ]
  },
  {
   "cell_type": "markdown",
   "id": "ffd3b8f0",
   "metadata": {},
   "source": [
    "Let's look at these codes in action. Below is a database table called 'COUNTRY,' which contains the columns `ID`, `Name`, and `CCode`. Here, ``CCode`` is a 2 letter country code."
   ]
  },
  {
   "cell_type": "markdown",
   "id": "d403fea7",
   "metadata": {},
   "source": [
    "| ID | NAME                    | CCode | \n",
    "| ---|------------------------ | ----- | \n",
    "| 1  |United Stated of America |  US   |\n",
    "| 2  |China                    |  CH   |\n",
    "| 3  |Japan                    |  JA   |\n",
    "| 4  |Germany                  |  GE   |\n",
    "| 5  |India                    |  IN   |             \n",
    "| 6  |United Kingdom           |  UK   |          \n",
    "| 7  |France                   |  FR   |                             \n",
    "| 8  |Italy                    |  IT   |                       \n",
    "| 9  |Canada                   |  CA   |                                \n",
    "| 10 |Brazil                   |  BR   |                             \n",
    "|"
   ]
  },
  {
   "cell_type": "markdown",
   "id": "6c64c05d",
   "metadata": {},
   "source": [
    "**Example #1**"
   ]
  },
  {
   "cell_type": "markdown",
   "id": "6366e827",
   "metadata": {},
   "source": [
    "When we apply the SELECT code `SELECT * FROM COUNTRY ;`, the query retrieves all rows and columns from the database table named COUNTRY.\n",
    "\n",
    "   * 'SELECT *' instructs the database to select all columns from the table.\n",
    "   * 'FROM COUNTRY' specifies the table from which to retrieve the data. In this case, it's the \"COUNTRY\" table, so the entire table appears, as shown below.\n",
    "\n",
    "Response:"
   ]
  },
  {
   "cell_type": "markdown",
   "id": "480e4658",
   "metadata": {},
   "source": [
    "| ID | NAME                    | CCode | \n",
    "| ---|------------------------ | ----- | \n",
    "| 1  |United Stated of America |  US   |\n",
    "| 2  |China                    |  CH   |\n",
    "| 3  |Japan                    |  JA   |\n",
    "| 4  |Germany                  |  GE   |\n",
    "| 5  |India                    |  IN   |             \n",
    "| 6  |United Kingdom           |  UK   |          \n",
    "| 7  |France                   |  FR   |                             \n",
    "| 8  |Italy                    |  IT   |                       \n",
    "| 9  |Canada                   |  CA   |                                \n",
    "| 10 |Brazil                   |  BR   |                             \n",
    "|"
   ]
  },
  {
   "cell_type": "markdown",
   "id": "44f14380",
   "metadata": {},
   "source": [
    "**Example #2**"
   ]
  },
  {
   "cell_type": "markdown",
   "id": "e1ea26e5",
   "metadata": {},
   "source": [
    "The SQL query `SELECT ID, Name FROM COUNTRY ;` retrieves specific columns from a database table named 'COUNTRY'.\n",
    "\n",
    "   * 'SELECT ID, Name' instructs the database to select two specific columns from the table: \"ID\" and \"Name.\" It will return these two columns for each row that matches the query criteria.\n",
    "   * 'FROM COUNTRY' specifies the table from which to retrieve the data, which is the \"COUNTRY\" table. The table below shows that only the \"ID\" and \"CCode\" columns were retrieved.\n",
    "\n",
    "Response:"
   ]
  },
  {
   "cell_type": "markdown",
   "id": "4f20431d",
   "metadata": {},
   "source": [
    "| ID | NAME                    | \n",
    "| ---|------------------------ | \n",
    "| 1  |United Stated of America |  \n",
    "| 2  |China                    | \n",
    "| 3  |Japan                    |  \n",
    "| 4  |Germany                  | \n",
    "| 5  |India                    |              \n",
    "| 6  |United Kingdom           |      \n",
    "| 7  |France                   |                               \n",
    "| 8  |Italy                    |                        \n",
    "| 9  |Canada                   |  \n",
    "| 10 |Brazil                   |                             \n",
    "|"
   ]
  },
  {
   "cell_type": "markdown",
   "id": "8f732631",
   "metadata": {},
   "source": [
    "**Example #3**"
   ]
  },
  {
   "cell_type": "markdown",
   "id": "b8814e05",
   "metadata": {},
   "source": [
    "The SQL query `SELECT * FROM COUNTRY WHERE ID <= 5 ;` retrieves all columns from the \"COUNTRY\" table where the value in the \"ID\" column is less than or equal to 5.\n",
    "\n",
    "  * `SELECT * instructs the database to select all columns from the specified table.\n",
    "  * FROM COUNTRY specifies the bale from which to retrieve the data, which is the 'COUNTRY' table.\n",
    "  * WHERE ID <= 5 ; is a condition that filters the rows from the table. It will only return rows where the value in the \"ID\" column is less than or equal to 5. In the table below, you can see that only columns 1-5 were retrieved.\n",
    "\n",
    "Response:"
   ]
  },
  {
   "cell_type": "markdown",
   "id": "16c1867d",
   "metadata": {},
   "source": [
    "| ID | NAME                    | CCode | \n",
    "| ---|------------------------ | ----- | \n",
    "| 1  |United Stated of America |  US   |\n",
    "| 2  |China                    |  CH   |\n",
    "| 3  |Japan                    |  JA   |\n",
    "| 4  |Germany                  |  GE   |\n",
    "| 5  |India                    |  IN   |\n",
    "|"
   ]
  },
  {
   "cell_type": "markdown",
   "id": "a711e905",
   "metadata": {},
   "source": [
    "**Example #4**"
   ]
  },
  {
   "cell_type": "markdown",
   "id": "60f8fc97",
   "metadata": {},
   "source": [
    "The SQL query `SELECT * FROM COUNTRY WHERE CCode = 'CA' ;` retrieves all columns from the \"COUNTRY\" table where the value in the \"CCode\" column is equal to 'CA'.\n",
    "\n",
    "  * `SELECT * instructs the database to select all columns from the specified table.\n",
    "  * FROM COUNTRY specifies the bale from which to retrieve the data, which is the 'COUNTRY' table.\n",
    "  * WHERE CCode = 'CA'; is a condition that filters the rows from the table. It will only return rows where the value in the \"CCode\" column is equal to 'CA.' In the table below, you will find that only the CA column was retrieved.\n",
    "\n",
    "Response:"
   ]
  },
  {
   "cell_type": "markdown",
   "id": "a6c618c7",
   "metadata": {},
   "source": [
    "| ID | NAME                    | CCode | \n",
    "| ---|------------------------ | ----- |\n",
    "| 9  |Canada                   |  CA   |\n"
   ]
  },
  {
   "cell_type": "markdown",
   "id": "7f038453",
   "metadata": {},
   "source": [
    "In the lab that follows later in the module, you will apply these concepts and practice more SELECT queries hands-on.\n",
    "\n",
    "In this reading, you learned that:\n",
    "\n",
    "   * SELECT is a Database Query command that retrieves information from a database table.\n",
    "   * The SELECT statement has various forms depending on what action you require.\n",
    "   * The general syntax will retrieve the data under the listed columns from a named table.\n",
    "   * Use \"*\" to retrieve all columns from a table without specifying individual column names.\n",
    "   * Use the WHERE clause to filter the data based on a predicate."
   ]
  },
  {
   "cell_type": "markdown",
   "id": "01223d74",
   "metadata": {},
   "source": [
    "## Author(s)"
   ]
  },
  {
   "cell_type": "markdown",
   "id": "4df6526d",
   "metadata": {},
   "source": [
    "Rav Ahuja\n",
    "Abhishek Gagneja"
   ]
  },
  {
   "cell_type": "markdown",
   "id": "8a620a5e",
   "metadata": {},
   "source": [
    "\n",
    "\n",
    "## Change Log\n",
    "\n",
    "| Date (YYYY-MM-DD) | Version | Changed By          |      Change Description              |\n",
    "| ----------------- | ------- | ------------------------   | ----------------------------- |\n",
    "| 2023-10-05        | 3.1     | Misty Taylor               | ID Check                      |\n",
    "| 2023-09-08        | 3.0     | Abhishek Gagneja           | Enhanced version created      |\n",
    "| 2023-05-10        | 2.1     | Eric Hao & Vladislav Boyko | Updated Page Frames           |\n",
    "| 2020-08-31        | 2.0     | Malika Singla              | Markdown file creation        |\n",
    "|                 \n",
    "\n",
    "\n",
    "<hr/>\n",
    "\n",
    "## <h3 align=\"center\"> © IBM Corporation 2023. All rights reserved. <h3/>\n"
   ]
  }
 ],
 "metadata": {
  "kernelspec": {
   "display_name": "Python 3 (ipykernel)",
   "language": "python",
   "name": "python3"
  },
  "language_info": {
   "codemirror_mode": {
    "name": "ipython",
    "version": 3
   },
   "file_extension": ".py",
   "mimetype": "text/x-python",
   "name": "python",
   "nbconvert_exporter": "python",
   "pygments_lexer": "ipython3",
   "version": "3.11.3"
  }
 },
 "nbformat": 4,
 "nbformat_minor": 5
}
